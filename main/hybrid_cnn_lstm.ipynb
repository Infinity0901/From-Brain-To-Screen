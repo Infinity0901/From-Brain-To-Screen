{
 "cells": [
  {
   "cell_type": "code",
   "execution_count": null,
   "metadata": {},
   "outputs": [],
   "source": [
    "import tensorflow as tf\n",
    "!pip install tensorflow-addons\n",
    "!pip install mne\n",
    "import tensorflow_addons as tfa\n",
    "from tqdm.notebook import tqdm\n",
    "\n",
    "from tensorflow.keras.models import Model, Sequential, load_model\n",
    "from tensorflow.keras import regularizers\n",
    "from tensorflow.keras.layers import Input, Dense, Activation, Dropout, SpatialDropout1D, SpatialDropout2D, BatchNormalization\n",
    "from tensorflow.keras.layers import Flatten, InputSpec, Layer, Concatenate, AveragePooling2D, MaxPooling2D, Reshape, Permute\n",
    "from tensorflow.keras.layers import Conv2D, SeparableConv2D, DepthwiseConv2D, LayerNormalization\n",
    "from tensorflow.keras.layers import TimeDistributed, Lambda, AveragePooling1D, Add, Conv1D, Multiply\n",
    "from tensorflow.keras.layers import Conv2D, DepthwiseConv2D, BatchNormalization, Activation, Concatenate, Input, AveragePooling2D, Dropout, Flatten, Dense, LSTM\n",
    "from tensorflow.keras.models import Model\n",
    "from tensorflow.keras.constraints import max_norm, unit_norm \n",
    "from tensorflow.keras.callbacks import ModelCheckpoint, EarlyStopping\n",
    "from tensorflow.keras.optimizers import Adam\n",
    "from tensorflow_addons.layers import WeightNormalization\n",
    "from tensorflow.keras.utils import plot_model\n",
    "\n",
    "import random\n",
    "import mne\n",
    "import matplotlib.pyplot as plt\n",
    "import sklearn\n",
    "from sklearn.metrics import silhouette_score, confusion_matrix\n",
    "\n",
    "import pandas as pd\n",
    "import numpy as np\n",
    "from glob import glob"
   ]
  },
  {
   "cell_type": "markdown",
   "metadata": {},
   "source": [
    "# Model"
   ]
  },
  {
   "cell_type": "code",
   "execution_count": null,
   "metadata": {},
   "outputs": [],
   "source": [
    "Fs = 256             # Sampling frequency\n",
    "n_channels = 4       # Number of channels\n",
    "Wn = 1               # Sampling window duration\n",
    "n_samples = Wn*Fs    # sampling window length per channel\n",
    "\n",
    "n_ff = [2,4,8,16]    # Number of frequency filters for each inception module of EEG-ITNet\n",
    "n_sf = [1,1,1,1]     # Number of spatial filters in each frequency sub-band of EEG-ITNet\n",
    "batch_size = 32 \n",
    "epochs = 500"
   ]
  },
  {
   "cell_type": "code",
   "execution_count": null,
   "metadata": {},
   "outputs": [],
   "source": [
    "def Hybrid_CNN_LSTM(Chans, Samples, out_class=3, drop_rate=0.2):\n",
    "    # Définition de la forme de l'entrée\n",
    "    Input_block = Input(shape=(Chans, Samples, 1))\n",
    "    \n",
    "    # Partie CNN\n",
    "    block1 = Conv2D(32, (1, 16), activation='relu', padding='same', name='Conv1')(Input_block)\n",
    "    block1 = BatchNormalization()(block1)\n",
    "    block1 = DepthwiseConv2D((Chans, 1), activation='relu', depth_multiplier=1, padding='valid', name='DepthConv1')(block1)\n",
    "    block1 = BatchNormalization()(block1)\n",
    "    block1 = Activation('elu')(block1)\n",
    "\n",
    "    block2 = Conv2D(64, (1, 32), activation='relu', padding='same', name='Conv2')(Input_block)\n",
    "    block2 = BatchNormalization()(block2)\n",
    "    block2 = DepthwiseConv2D((Chans, 1), activation='relu', depth_multiplier=1, padding='valid', name='DepthConv2')(block2)\n",
    "    block2 = BatchNormalization()(block2)\n",
    "    block2 = Activation('elu')(block2)\n",
    "\n",
    "    block3 = Conv2D(128, (1, 64), activation='relu', padding='same', name='Conv3')(Input_block)\n",
    "    block3 = BatchNormalization()(block3)\n",
    "    block3 = DepthwiseConv2D((Chans, 1), activation='relu', depth_multiplier=1, padding='valid', name='DepthConv3')(block3)\n",
    "    block3 = BatchNormalization()(block3)\n",
    "    block3 = Activation('elu')(block3)\n",
    "\n",
    "    block4 = Conv2D(256, (1, 128), activation='relu', padding='same', name='Conv4')(Input_block)\n",
    "    block4 = BatchNormalization()(block4)\n",
    "    block4 = DepthwiseConv2D((Chans, 1), activation='relu', depth_multiplier=1, padding='valid', name='DepthConv4')(block4)\n",
    "    block4 = BatchNormalization()(block4)\n",
    "    block4 = Activation('elu')(block4)\n",
    "\n",
    "    # Concaténation des blocs CNN\n",
    "    block = Concatenate(axis=-1)([block1, block2, block3, block4])\n",
    "\n",
    "    # Réduction de dimension et préparation pour LSTM\n",
    "    lstm_input = AveragePooling2D((1, 4))(block)\n",
    "    lstm_input = Dropout(drop_rate)(lstm_input)\n",
    "    lstm_input = Flatten()(lstm_input)\n",
    "    lstm_input = Dense(128, activation='relu')(lstm_input)\n",
    "    lstm_input = Dropout(drop_rate)(lstm_input)\n",
    "    \n",
    "    # Ajout de LSTM\n",
    "    lstm_output = LSTM(64, return_sequences=False)(tf.expand_dims(lstm_input, axis=1))\n",
    "\n",
    "    # Partie classification\n",
    "    out = Dense(out_class, activation='softmax')(lstm_output)\n",
    "\n",
    "    # Création du modèle\n",
    "    model = Model(inputs=Input_block, outputs=out)\n",
    "    return model"
   ]
  },
  {
   "cell_type": "markdown",
   "metadata": {},
   "source": [
    "# Data Preparation"
   ]
  }
 ],
 "metadata": {
  "language_info": {
   "name": "python"
  }
 },
 "nbformat": 4,
 "nbformat_minor": 2
}
