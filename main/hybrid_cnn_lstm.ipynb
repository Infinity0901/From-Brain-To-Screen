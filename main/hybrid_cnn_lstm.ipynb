{
 "cells": [
  {
   "cell_type": "code",
   "execution_count": null,
   "metadata": {},
   "outputs": [],
   "source": [
    "import tensorflow as tf\n",
    "!pip install tensorflow-addons\n",
    "!pip install mne\n",
    "import tensorflow_addons as tfa\n",
    "from tqdm.notebook import tqdm\n",
    "\n",
    "from tensorflow.keras.models import Model, Sequential, load_model\n",
    "from tensorflow.keras import regularizers\n",
    "from tensorflow.keras.layers import Input, Dense, Activation, Dropout, SpatialDropout1D, SpatialDropout2D, BatchNormalization\n",
    "from tensorflow.keras.layers import Flatten, InputSpec, Layer, Concatenate, AveragePooling2D, MaxPooling2D, Reshape, Permute\n",
    "from tensorflow.keras.layers import Conv2D, SeparableConv2D, DepthwiseConv2D, LayerNormalization\n",
    "from tensorflow.keras.layers import TimeDistributed, Lambda, AveragePooling1D, Add, Conv1D, Multiply\n",
    "from tensorflow.keras.constraints import max_norm, unit_norm \n",
    "from tensorflow.keras.callbacks import ModelCheckpoint, EarlyStopping\n",
    "from tensorflow.keras.optimizers import Adam\n",
    "from tensorflow_addons.layers import WeightNormalization\n",
    "from tensorflow.keras.utils import plot_model\n",
    "\n",
    "import random\n",
    "import mne\n",
    "import matplotlib.pyplot as plt\n",
    "import sklearn\n",
    "from sklearn.metrics import silhouette_score, confusion_matrix\n",
    "\n",
    "import pandas as pd\n",
    "import numpy as np\n",
    "from glob import glob"
   ]
  },
  {
   "cell_type": "markdown",
   "metadata": {},
   "source": [
    "# Model"
   ]
  },
  {
   "cell_type": "code",
   "execution_count": null,
   "metadata": {},
   "outputs": [],
   "source": [
    "Fs = 256             # Sampling frequency\n",
    "n_channels = 4       # Number of channels\n",
    "Wn = 1               # Sampling window duration\n",
    "n_samples = Wn*Fs    # sampling window length per channel\n",
    "\n",
    "n_ff = [2,4,8,16]    # Number of frequency filters for each inception module of EEG-ITNet\n",
    "n_sf = [1,1,1,1]     # Number of spatial filters in each frequency sub-band of EEG-ITNet\n",
    "batch_size = 32 \n",
    "epochs = 100"
   ]
  }
 ],
 "metadata": {
  "language_info": {
   "name": "python"
  }
 },
 "nbformat": 4,
 "nbformat_minor": 2
}
